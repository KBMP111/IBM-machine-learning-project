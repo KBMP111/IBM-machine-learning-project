{
 "cells": [
  {
   "cell_type": "markdown",
   "metadata": {},
   "source": [
    "# Clustering Similar African Cities using the Four-Square API.\n"
   ]
  },
  {
   "cell_type": "markdown",
   "metadata": {},
   "source": [
    "<img src = \"https://upload.wikimedia.org/wikipedia/commons/8/8a/Africa-regions.png\" width = 380, align = \"center\"></a>"
   ]
  },
  {
   "cell_type": "markdown",
   "metadata": {},
   "source": [
    "## Clustering Similar African Cities using the Four-Square API. Introduction and Data\n"
   ]
  },
  {
   "cell_type": "markdown",
   "metadata": {},
   "source": [
    "## Introduction\n"
   ]
  },
  {
   "cell_type": "markdown",
   "metadata": {},
   "source": [
    "Africa is a diverse region as it is home to many cultures, histories and peoples. The diversity can also be observed in the standard of living and economic growth in the different parts. In this project we will use the location of major African cities and he four square API to seek and cluster similar African cities to cities within the region.\n",
    "\n"
   ]
  },
  {
   "cell_type": "markdown",
   "metadata": {},
   "source": [
    "BY clustering similar cities it can be possible to enhance travel and tourism recommendations. This will allow tourists to better plan their trips and have a 'feeling' of what to expect when visitng Africa. Secondly, Africa is an emerging region with abundant natural resouorces and a young population this presents an opportunity for investors looking for higher returns and a strong market positons or monopolies. With the clustering possible in this project tourists, investors and etc, can better understand African Cities what they have to offer and the opportunites arising there.\n"
   ]
  },
  {
   "cell_type": "markdown",
   "metadata": {},
   "source": [
    "<img src = \"https://upload.wikimedia.org/wikipedia/commons/5/50/Victoria_Falls_gorge1.jpg\" width = 350, align = \"center\"></a>"
   ]
  },
  {
   "cell_type": "markdown",
   "metadata": {},
   "source": [
    "## Data\n"
   ]
  },
  {
   "cell_type": "markdown",
   "metadata": {},
   "source": [
    "Our location Data will be retrieved from Simple Maps and Wikipedia. The data will provide the latitude and the longitude of most cities. The location will then be used to leverage Foursquare API to retrieve information on various venues around these locations. With the venue data and the location data we will the run a k-means algorithm to group cities with similar venues. With these clusters the Folium library will be used to plot similar cities.\n"
   ]
  },
  {
   "cell_type": "markdown",
   "metadata": {},
   "source": [
    "The Cluster will be coloured and clearly labelled for peer-review."
   ]
  },
  {
   "cell_type": "code",
   "execution_count": null,
   "metadata": {},
   "outputs": [],
   "source": []
  }
 ],
 "metadata": {
  "kernelspec": {
   "display_name": "Python 3",
   "language": "python",
   "name": "python3"
  },
  "language_info": {
   "codemirror_mode": {
    "name": "ipython",
    "version": 3
   },
   "file_extension": ".py",
   "mimetype": "text/x-python",
   "name": "python",
   "nbconvert_exporter": "python",
   "pygments_lexer": "ipython3",
   "version": "3.7.3"
  }
 },
 "nbformat": 4,
 "nbformat_minor": 2
}
